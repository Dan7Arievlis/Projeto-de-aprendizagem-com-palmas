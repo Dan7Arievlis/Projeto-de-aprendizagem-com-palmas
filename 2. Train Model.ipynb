{
 "cells": [
  {
   "cell_type": "markdown",
   "id": "dcbe564e-17f8-4258-ae2d-363633438e3b",
   "metadata": {},
   "source": [
    "# 0. Converter COCO para YOLO"
   ]
  },
  {
   "cell_type": "code",
   "execution_count": 102,
   "id": "cee28ebf-6da6-41c0-946d-4366e8f1a2e4",
   "metadata": {},
   "outputs": [],
   "source": [
    "import os\n",
    "import xmltodict\n",
    "from math import ceil, floor\n",
    "import random\n",
    "import shutil"
   ]
  },
  {
   "cell_type": "code",
   "execution_count": 72,
   "id": "a5da7796-52fa-4a78-a47c-4c532cac1384",
   "metadata": {},
   "outputs": [],
   "source": [
    "PROCESSED_PATH = os.path.join('Tensorflow', 'workspace', 'images', 'processedimages')"
   ]
  },
  {
   "cell_type": "code",
   "execution_count": 73,
   "id": "9ae58ce5-1182-43b2-a91b-6dafacb15cfe",
   "metadata": {},
   "outputs": [],
   "source": [
    "def convert_coco_to_yolo(coco_xml_dir, yolo_txt_dir, class_mapping):\n",
    "    for filename in os.listdir(coco_xml_dir):\n",
    "        if filename.endswith(\".xml\"):\n",
    "            with open(os.path.join(coco_xml_dir, filename), 'r') as file:\n",
    "                data = xmltodict.parse(file.read())\n",
    "\n",
    "            img_width = int(data['annotation']['size']['width'])\n",
    "            img_height = int(data['annotation']['size']['height'])\n",
    "\n",
    "            yolo_txt_path = os.path.join(yolo_txt_dir, filename.replace(\".xml\", \".txt\"))\n",
    "\n",
    "            with open(yolo_txt_path, 'w') as file:\n",
    "                for obj in data['annotation']['object']:\n",
    "                    class_name = obj['name']\n",
    "                    class_id = class_mapping.get(class_name)\n",
    "                    \n",
    "                    if class_id is not None:\n",
    "                        x_min = int(obj['bndbox']['xmin'])\n",
    "                        y_min = int(obj['bndbox']['ymin'])\n",
    "                        x_max = int(obj['bndbox']['xmax'])\n",
    "                        y_max = int(obj['bndbox']['ymax'])\n",
    "\n",
    "                        x_center = (x_min + x_max) / 2 / img_width\n",
    "                        y_center = (y_min + y_max) / 2 / img_height\n",
    "                        width = (x_max - x_min) / img_width\n",
    "                        height = (y_max - y_min) / img_height\n",
    "\n",
    "                        file.write(f\"{class_id} {x_center:.6f} {y_center:.6f} {width:.6f} {height:.6f}\\n\")"
   ]
  },
  {
   "cell_type": "code",
   "execution_count": 74,
   "id": "756ed33b-2170-4a05-bace-46b031f88bcd",
   "metadata": {},
   "outputs": [],
   "source": [
    "class_mapping = {\n",
    "    'propria': 0,\n",
    "    'impropria': 1\n",
    "}\n",
    "\n",
    "convert_coco_to_yolo(PROCESSED_PATH, PROCESSED_PATH, class_mapping)"
   ]
  },
  {
   "cell_type": "code",
   "execution_count": 75,
   "id": "cfb73923-4cee-49f4-9057-9354a85e5faa",
   "metadata": {},
   "outputs": [],
   "source": [
    "!del {PROCESSED_PATH}\\*.xml"
   ]
  },
  {
   "cell_type": "markdown",
   "id": "346a3c67-8c4f-4f20-a2bf-e895d24d32ae",
   "metadata": {},
   "source": [
    "# 1. Mover as imagens para os grupos de treino e teste"
   ]
  },
  {
   "cell_type": "markdown",
   "id": "6e4d3ca9-61bd-4ec8-942c-f4e98dff70e0",
   "metadata": {},
   "source": [
    "## Criar caminhos para as pastas"
   ]
  },
  {
   "cell_type": "code",
   "execution_count": 76,
   "id": "083d00da-9250-4d92-9cf6-b33ec2f451ac",
   "metadata": {},
   "outputs": [],
   "source": [
    "TRAIN_PATH = os.path.join('Tensorflow', 'workspace', 'images', 'train')\n",
    "TEST_PATH = os.path.join('Tensorflow', 'workspace', 'images', 'test')"
   ]
  },
  {
   "cell_type": "markdown",
   "id": "05a49682-9a59-4f6b-9b6e-49fbdc9d265c",
   "metadata": {},
   "source": [
    "## Selecionar arquivos aleatórios para teste e treino"
   ]
  },
  {
   "cell_type": "code",
   "execution_count": 77,
   "id": "25278571-176f-453f-b400-abe38ec04785",
   "metadata": {},
   "outputs": [],
   "source": [
    "files = os.listdir(PROCESSED_PATH)"
   ]
  },
  {
   "cell_type": "code",
   "execution_count": 79,
   "id": "ac4d0341-7866-4d37-a599-be35ef8d1563",
   "metadata": {},
   "outputs": [],
   "source": [
    "def escolher_numeros_aleatorios(seed, minimo, maximo, qtd_numeros):\n",
    "    if qtd_numeros == len(os.listdir(PROCESSED_PATH)):\n",
    "        return range(qtd_numeros)\n",
    "        \n",
    "    random.seed(seed)\n",
    "    if qtd_numeros > (maximo - minimo + 1):\n",
    "        return \"Impossível selecionar essa quantidade de números únicos dentro do intervalo.\"\n",
    "    \n",
    "    numeros_escolhidos = []\n",
    "    \n",
    "    while len(numeros_escolhidos) < qtd_numeros:\n",
    "        novo_numero = random.randint(minimo, maximo)\n",
    "        if novo_numero not in numeros_escolhidos:\n",
    "            numeros_escolhidos.append(novo_numero)\n",
    "    \n",
    "    return numeros_escolhidos"
   ]
  },
  {
   "cell_type": "code",
   "execution_count": 104,
   "id": "5d03b369-c506-4282-959f-61c61a3ad5ad",
   "metadata": {},
   "outputs": [
    {
     "name": "stdout",
     "output_type": "stream",
     "text": [
      "0.3\n"
     ]
    }
   ],
   "source": [
    "train_ratio = 0.7\n",
    "test_ratio = floor(((1 - train_ratio) * 100)) / 100\n",
    "print(test_ratio)"
   ]
  },
  {
   "cell_type": "code",
   "execution_count": 86,
   "id": "67c096ef-6079-42ba-9b87-38dc317b9d83",
   "metadata": {},
   "outputs": [],
   "source": [
    "max = len(files) // 2 - 1\n",
    "count = ceil((len(files) // 2) * train_ratio)\n",
    "train_idx = escolher_numeros_aleatorios(420, 0, max, count)\n",
    "test_idx = [x for x in range(len(files) // 2) if x not in train_idx]"
   ]
  },
  {
   "cell_type": "markdown",
   "id": "5c070347-d9e6-457c-908a-9da5243bb969",
   "metadata": {},
   "source": [
    "## Separar grupo de imagens"
   ]
  },
  {
   "cell_type": "code",
   "execution_count": 78,
   "id": "4efbcf7d-9b05-4182-b262-9ef89bbc43b2",
   "metadata": {},
   "outputs": [],
   "source": [
    "def copy_img_txt(destination_path, array_idx):\n",
    "    for idx in array_idx:\n",
    "        selected_img = [file for file in files if file.endswith(f'_{idx + 1}.jpg')][0]\n",
    "        selected_txt = [file for file in files if file.endswith(f'_{idx + 1}.txt')][0]\n",
    "\n",
    "        source_file_path = os.path.join(PROCESSED_PATH, selected_img)\n",
    "        destination_file_path = os.path.join(destination_path, selected_img)\n",
    "        shutil.copyfile(source_file_path, destination_file_path)\n",
    "\n",
    "        source_file_path = os.path.join(PROCESSED_PATH, selected_txt)\n",
    "        destination_file_path = os.path.join(destination_path, selected_txt)\n",
    "        shutil.copyfile(source_file_path, destination_file_path)"
   ]
  },
  {
   "cell_type": "code",
   "execution_count": 81,
   "id": "a79f7f1c-6ea1-46b6-b272-caf6358b152d",
   "metadata": {},
   "outputs": [],
   "source": [
    "!del /Q {TRAIN_PATH}\\*\n",
    "!del /Q {TEST_PATH}\\*"
   ]
  },
  {
   "cell_type": "code",
   "execution_count": 82,
   "id": "1077ee4b-d4a4-47d4-8ac3-82c4341fd7c5",
   "metadata": {},
   "outputs": [],
   "source": [
    "copy_img_txt(TRAIN_PATH, train_idx)\n",
    "copy_img_txt(TEST_PATH, test_idx)"
   ]
  },
  {
   "cell_type": "markdown",
   "id": "aa99043e-e135-4814-b30e-143371199904",
   "metadata": {},
   "source": [
    "# 2. Treinamento"
   ]
  },
  {
   "cell_type": "code",
   "execution_count": 87,
   "id": "7553fee1-4c66-48ca-a4f7-d32c29f34037",
   "metadata": {},
   "outputs": [],
   "source": [
    "import os\n",
    "import numpy as np\n",
    "import seaborn as sns\n",
    "import matplotlib.pyplot as plt\n",
    "from sklearn.ensemble import RandomForestClassifier\n",
    "from sklearn.model_selection import train_test_split\n",
    "from sklearn.metrics import accuracy_score, f1_score, precision_score, recall_score, confusion_matrix"
   ]
  },
  {
   "cell_type": "markdown",
   "id": "3751b61e-0679-482e-b1a3-54180eaf67f3",
   "metadata": {},
   "source": [
    "## Carregamento dos dados YOLO"
   ]
  },
  {
   "cell_type": "code",
   "execution_count": 88,
   "id": "12f9a2c6-9f40-4f5e-9594-839bb1418a52",
   "metadata": {},
   "outputs": [],
   "source": [
    "diretorio_base = os.path.join('Tensorflow', 'workspace', 'images')\n",
    "\n",
    "labels = []\n",
    "features = []"
   ]
  },
  {
   "cell_type": "code",
   "execution_count": 89,
   "id": "25d3497e-0137-40e5-8c6d-e8ce11a18fcf",
   "metadata": {},
   "outputs": [],
   "source": [
    "def load_yolo_annotations(file_path):\n",
    "    with open(file_path, 'r') as file:\n",
    "        annotation_data = file.readlines()\n",
    "\n",
    "    return annotation_data"
   ]
  },
  {
   "cell_type": "code",
   "execution_count": 90,
   "id": "33a3c08e-3186-45ae-9a81-9c14aeda8490",
   "metadata": {},
   "outputs": [],
   "source": [
    "def process_yolo_annotations(annotation_data):\n",
    "\n",
    "    for annotation_line in annotation_data:\n",
    "        items = annotation_line.strip().split()\n",
    "            \n",
    "        class_label = int(items[0].split('.')[0])\n",
    "        coordinates = [float(item) for item in items[1:]]\n",
    "\n",
    "        labels.append(class_label)\n",
    "        features.append(coordinates)\n",
    "    return labels, features"
   ]
  },
  {
   "cell_type": "markdown",
   "id": "75755616-e210-4aef-92fa-9462ff6246c7",
   "metadata": {},
   "source": [
    "## Processar labels YOLO"
   ]
  },
  {
   "cell_type": "code",
   "execution_count": 91,
   "id": "8edaaf66-ff5c-467c-a4b8-5db698e7cfbd",
   "metadata": {},
   "outputs": [],
   "source": [
    "for subpasta in ['train', 'test']:\n",
    "    caminho_subpasta = os.path.join(diretorio_base, subpasta)\n",
    "\n",
    "    for arquivo in os.listdir(caminho_subpasta):\n",
    "        if arquivo.endswith('.txt'):\n",
    "            caminho_txt = os.path.join(caminho_subpasta, arquivo)\n",
    "\n",
    "            annotation_data = load_yolo_annotations(caminho_txt)\n",
    "            txtLido = process_yolo_annotations(annotation_data)"
   ]
  },
  {
   "cell_type": "markdown",
   "id": "5837b001-f073-4ded-9e17-e6483dec1ce7",
   "metadata": {},
   "source": [
    "## Treinamento dos dados com modelo Random Forest"
   ]
  },
  {
   "cell_type": "code",
   "execution_count": 105,
   "id": "959bfbed-3f4d-4d8c-b533-62c23196fe98",
   "metadata": {},
   "outputs": [
    {
     "name": "stdout",
     "output_type": "stream",
     "text": [
      "[0 1 1 1 0 1 1 0 1 0 0 0 0 1 0 0 0 1 1 0 1 1 1 0 0 0 1 0 0 0 0 1 0 1 0 1 0\n",
      " 0 1 1 1 1 0 1 0 0 0 1 1 0 0 0 1 1 1 1 0 0 1 1 0 0 0 1 1 1 1 0 1 0 0 0 0 0\n",
      " 1 0 1 0 0 0 1 1 1 1 0 0 0 0 1 0 1 1 0 1 1 1 0 1 0 1 0 1 1 1 1 1 1 1 1 1 1\n",
      " 1 0 0 0 0 0 0 0 1 0 1 0 1 1 1 0 1 1 1 0 1 1 0 0 1 0 1 0 0 0 0 1 1 0 1 0 0\n",
      " 1 0 1 1 0 0 1 1 1 1 0 1 0 0 0 0 0 1 0 1 0 1 0 0 0 0 0 1 0 1 1 0 1 0 0 0 0\n",
      " 0 1 0 1 0 0 0 1 0 1 1 0 1 0 1 1 0 0 0 0 0 0 1 1 0 1 0 0 0 0 1 1 1 1 0 0 1\n",
      " 0 1 0 0 1 1 1 0 1 1 0 1 0 1 1 0 0 0 0 1 0 1 1 1 0 0 0 1 1 0 0 1 0 0 1 1 1\n",
      " 0 1 1 0 0 1 0 1 1 1 0 0 0 1]\n",
      "Acuracia do modelo: 0.9194139194139194\n",
      "F1: 0.9194420963651733\n",
      "Precisao: 0.9195690880455959\n",
      "Revocacao: 0.9194139194139194\n",
      "Matriz de Confusão: [[132  12]\n",
      " [ 10 119]]\n"
     ]
    }
   ],
   "source": [
    "features = np.array(features)\n",
    "\n",
    "X_train, X_test, Y_train, Y_test = train_test_split(features, labels, test_size=test_ratio, train_size=train_ratio, random_state=40)\n",
    "\n",
    "clf = RandomForestClassifier(n_estimators=100, random_state=42)\n",
    "clf.fit(X_train, Y_train)\n",
    "\n",
    "predictions = clf.predict(X_test)\n",
    "y_test_pred = predictions\n",
    "\n",
    "conf_matrix = confusion_matrix(Y_test, predictions)\n",
    "accuracy = accuracy_score(Y_test, predictions)\n",
    "f1 = f1_score(Y_test, predictions, average='weighted')\n",
    "precision = precision_score(Y_test, y_test_pred, average='weighted')\n",
    "Revocacao = recall_score(Y_test, y_test_pred, average='weighted')\n",
    "\n",
    "print (predictions)\n",
    "print(f'Acuracia do modelo: {accuracy}')\n",
    "print(f'F1: {f1}')\n",
    "print(f'Precisao: {precision}')\n",
    "print(f'Revocacao: {Revocacao}')\n",
    "print(f'Matriz de Confusão: {conf_matrix}')"
   ]
  },
  {
   "cell_type": "markdown",
   "id": "3ec84a09-1869-4033-b0e1-59ee049cd8d1",
   "metadata": {},
   "source": [
    "## Exibição gráfica dos resultados"
   ]
  },
  {
   "cell_type": "code",
   "execution_count": 106,
   "id": "9d590098-07b4-4f30-942e-9082b7abfe0d",
   "metadata": {},
   "outputs": [
    {
     "data": {
      "image/png": "[encoded data removed]",
      "text/plain": [
       "<Figure size 1000x500 with 1 Axes>"
      ]
     },
     "metadata": {},
     "output_type": "display_data"
    },
    {
     "data": {
      "image/png": "[encoded data removed]",
      "text/plain": [
       "<Figure size 800x600 with 2 Axes>"
      ]
     },
     "metadata": {},
     "output_type": "display_data"
    }
   ],
   "source": [
    "metrics_names = ['Acurácia', 'F1', 'Precisão', 'Revocação']\n",
    "metrics_values = [accuracy, f1, precision, Revocacao]\n",
    "\n",
    "plt.figure(figsize=(10, 5))\n",
    "plt.bar(metrics_names, metrics_values, color=['blue', 'green', 'orange', 'red'])\n",
    "plt.title('Métricas de Avaliação')\n",
    "plt.ylabel('Valor')\n",
    "plt.show()\n",
    "\n",
    "# Gráfico de matriz de confusão\n",
    "plt.figure(figsize=(8, 6))\n",
    "sns.heatmap(conf_matrix, annot=True, fmt='d', cmap='Blues', xticklabels=[0, 1], yticklabels=[0, 1])\n",
    "plt.title('Matriz de Confusão')\n",
    "plt.xlabel('Previsões')\n",
    "plt.ylabel('Valores Reais')\n",
    "plt.show()"
   ]
  },
  {
   "cell_type": "code",
   "execution_count": null,
   "id": "9dfbe8a7-6354-4dbd-a08c-06dfeaf6f34b",
   "metadata": {},
   "outputs": [],
   "source": []
  }
 ],
 "metadata": {
  "kernelspec": {
   "display_name": "tfod",
   "language": "python",
   "name": "tfod"
  },
  "language_info": {
   "codemirror_mode": {
    "name": "ipython",
    "version": 3
   },
   "file_extension": ".py",
   "mimetype": "text/x-python",
   "name": "python",
   "nbconvert_exporter": "python",
   "pygments_lexer": "ipython3",
   "version": "3.12.0"
  }
 },
 "nbformat": 4,
 "nbformat_minor": 5
}
