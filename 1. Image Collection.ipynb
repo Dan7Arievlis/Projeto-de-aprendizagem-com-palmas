{
 "cells": [
  {
   "cell_type": "markdown",
   "metadata": {},
   "source": [
    "# 1. Importar Dependências"
   ]
  },
  {
   "cell_type": "code",
   "execution_count": null,
   "metadata": {},
   "outputs": [],
   "source": [
    "!pip install opencv-python"
   ]
  },
  {
   "cell_type": "code",
   "execution_count": null,
   "metadata": {},
   "outputs": [],
   "source": [
    "# Import opencv\n",
    "import cv2 \n",
    "\n",
    "# Import uuid\n",
    "import uuid\n",
    "\n",
    "# Import Operating System\n",
    "import os\n",
    "\n",
    "# Import time\n",
    "import time\n",
    "\n",
    "# Import numpy\n",
    "import numpy as np\n",
    "\n",
    "import shutil\n",
    "\n",
    "import random\n",
    "\n",
    "from math import ceil"
   ]
  },
  {
   "cell_type": "markdown",
   "metadata": {},
   "source": [
    "# 2. Organizar as pastas "
   ]
  },
  {
   "cell_type": "code",
   "execution_count": null,
   "metadata": {},
   "outputs": [],
   "source": [
    "IMAGES_PATH = os.path.join('Tensorflow', 'workspace', 'images', 'collectedimages')"
   ]
  },
  {
   "cell_type": "code",
   "execution_count": null,
   "metadata": {},
   "outputs": [],
   "source": [
    "if not os.path.exists(IMAGES_PATH):\n",
    "    if os.name == 'posix':\n",
    "        !mkdir -p {IMAGES_PATH}\n",
    "    if os.name == 'nt':\n",
    "         !mkdir {IMAGES_PATH}"
   ]
  },
  {
   "cell_type": "markdown",
   "metadata": {},
   "source": [
    "# 3. Pegar Imagens"
   ]
  },
  {
   "cell_type": "code",
   "execution_count": null,
   "metadata": {},
   "outputs": [],
   "source": [
    "imagens = []\n",
    "\n",
    "i = 1\n",
    "for nome_arquivo in os.listdir(IMAGES_PATH):\n",
    "    FULL_PATH = os.path.join(IMAGES_PATH, nome_arquivo)\n",
    "\n",
    "    if nome_arquivo.endswith(('.jpg', '.jpeg', '.png', '.gif')):\n",
    "        try:\n",
    "            imagem = cv2.imread(FULL_PATH)\n",
    "            imagens.append(imagem)\n",
    "            if FULL_PATH == os.path.join(IMAGES_PATH, 'imagem' + str(i) + '.jpg'):\n",
    "                os.rename(FULL_PATH, os.path.join(IMAGES_PATH, 'imagem' + str(i) + '.jpg'))\n",
    "            i += 1\n",
    "        except Exception as e:\n",
    "            print(f\"Erro ao abrir a imagem {caminho_completo}: {str(e)}\")"
   ]
  },
  {
   "cell_type": "markdown",
   "metadata": {},
   "source": [
    "# 4. Pré processamento"
   ]
  },
  {
   "cell_type": "markdown",
   "metadata": {},
   "source": [
    "## Operações"
   ]
  },
  {
   "cell_type": "code",
   "execution_count": null,
   "metadata": {},
   "outputs": [],
   "source": [
    "def padronizar_dimensoes(imagem, largura, altura):\n",
    "    return cv2.resize(imagem, (largura, altura))\n",
    "\n",
    "\n",
    "def normalizar_cores(imagem):\n",
    "    return cv2.cvtColor(imagem, cv2.COLOR_BGR2GRAY)\n",
    "\n",
    "\n",
    "def remover_ruidos(imagem):\n",
    "    row, col = 1, 1\n",
    "    return cv2.GaussianBlur(imagem, (row, col), 0)\n",
    "\n",
    "\n",
    "def augmentacao_dados(imagem):\n",
    "    return cv2.rotate(imagem, cv2.ROTATE_90_CLOCKWISE)\n",
    "\n",
    "\n",
    "def ajuste_exposicao_contraste(imagem):\n",
    "    alpha, beta = 1.0, 0.9\n",
    "    return cv2.convertScaleAbs(imagem, alpha=alpha, beta=beta)\n",
    "\n",
    "\n",
    "def equalizacao_histograma(imagem):\n",
    "    return cv2.equalizeHist(imagem)\n",
    "\n",
    "\n",
    "def filtragem_bordas(imagem):\n",
    "    return cv2.Laplacian(imagem, cv2.CV_64F)\n",
    "\n",
    "\n",
    "def segmentacao(imagem, limiar):\n",
    "    _, imagem_segmentada = cv2.threshold(imagem, limiar, 255, cv2.THRESH_BINARY)\n",
    "    return imagem_segmentada\n",
    "\n",
    "\n",
    "def remover_artefatos(imagem):\n",
    "    return cv2.medianBlur(imagem, 1)\n",
    "\n",
    "def aumentar_brilho(imagem):\n",
    "    brilho = 40\n",
    "    imagem_brilho = np.where((255 - imagem) < brilho, 255, imagem + brilho)\n",
    "    \n",
    "    contraste = 1.2\n",
    "    imagem_contraste = cv2.convertScaleAbs(imagem_brilho, alpha=contraste, beta=0)\n",
    "\n",
    "    return imagem_contraste"
   ]
  },
  {
   "cell_type": "markdown",
   "metadata": {},
   "source": [
    "## Processamento das imagens na lista"
   ]
  },
  {
   "cell_type": "code",
   "execution_count": null,
   "metadata": {},
   "outputs": [],
   "source": [
    "imagens_processadas = []\n",
    "for imagem in imagens:\n",
    "    largura, altura = 3560, 3269\n",
    "    \n",
    "    # padronizar dimensoes\n",
    "    imagem = padronizar_dimensoes(imagem, largura, altura)\n",
    "    # preto e branco\n",
    "    imagem = normalizar_cores(imagem)\n",
    "    # desfoque gausiano na imagem\n",
    "    imagem = remover_ruidos(imagem)\n",
    "    # rotacionar imagem\n",
    "    # imagem = augmentacao_dados(imagem)\n",
    "    # contraste\n",
    "    imagem = ajuste_exposicao_contraste(imagem)\n",
    "    # equalizar os valores dos pixels na imagem\n",
    "    imagem = equalizacao_histograma(imagem)\n",
    "    # outro desfoque, so q mediano\n",
    "    imagem = remover_artefatos(imagem)\n",
    "    # atribui um valor binario a cada pixel dependendo de um threshhold\n",
    "    # imagem = segmentacao(imagem, 164)\n",
    "    # deixa os pixels q representam as \"bordas\" de um objeto\n",
    "    # imagem = filtragem_bordas(imagem)\n",
    "\n",
    "    imagens_processadas.append(imagem)"
   ]
  },
  {
   "cell_type": "markdown",
   "metadata": {},
   "source": [
    "## Salvar imagens"
   ]
  },
  {
   "cell_type": "code",
   "execution_count": null,
   "metadata": {},
   "outputs": [],
   "source": [
    "PROCESSED_PATH = os.path.join('Tensorflow', 'workspace', 'images', 'processedimages')"
   ]
  },
  {
   "cell_type": "code",
   "execution_count": null,
   "metadata": {},
   "outputs": [],
   "source": [
    "if not os.path.exists(PROCESSED_PATH):\n",
    "    if os.name == 'posix':\n",
    "        !mkdir -p {PROCESSED_PATH}\n",
    "    if os.name == 'nt':\n",
    "        !mkdir {PROCESSED_PATH}"
   ]
  },
  {
   "cell_type": "code",
   "execution_count": null,
   "metadata": {},
   "outputs": [],
   "source": [
    "i = 1\n",
    "for img in imagens_processadas:\n",
    "    IMAGE_PATH = os.path.join(PROCESSED_PATH, 'imagem_processada_' + str(i) + '.jpg')\n",
    "    cv2.imwrite(IMAGE_PATH, img)\n",
    "    i += 1"
   ]
  },
  {
   "cell_type": "markdown",
   "metadata": {},
   "source": [
    "# 5. Image Labelling"
   ]
  },
  {
   "cell_type": "code",
   "execution_count": null,
   "metadata": {},
   "outputs": [],
   "source": [
    "!pip install --upgrade pyqt5 lxml"
   ]
  },
  {
   "cell_type": "code",
   "execution_count": null,
   "metadata": {},
   "outputs": [],
   "source": [
    "LABELING_PATH = os.path.join('Tensorflow', 'labelimg')"
   ]
  },
  {
   "cell_type": "code",
   "execution_count": null,
   "metadata": {},
   "outputs": [],
   "source": [
    "if not os.path.exists(LABELING_PATH):\n",
    "    !mkdir {LABELING_PATH}\n",
    "    !git clone https://github.com/tzutalin/labelImg {LABELING_PATH}"
   ]
  },
  {
   "cell_type": "code",
   "execution_count": null,
   "metadata": {},
   "outputs": [],
   "source": [
    "if os.name == 'posix':\n",
    "    !make qt5py3\n",
    "if os.name =='nt':\n",
    "    !cd {LABELING_PATH} && pyrcc5 -o libs/resources.py resources.qrc"
   ]
  },
  {
   "cell_type": "code",
   "execution_count": null,
   "metadata": {
    "scrolled": true
   },
   "outputs": [],
   "source": [
    "!cd {LABELING_PATH} && python labelImg.py"
   ]
  },
  {
   "cell_type": "markdown",
   "metadata": {},
   "source": [
    "# 6. Popular imagens processadas com imagens alteradas"
   ]
  },
  {
   "cell_type": "markdown",
   "metadata": {},
   "source": [
    "## Criar um conjunto de imagens aleatorias para seleção"
   ]
  },
  {
   "cell_type": "code",
   "execution_count": null,
   "metadata": {},
   "outputs": [],
   "source": [
    "ratio = 0.9\n",
    "num_augmented = ceil(len(os.listdir(PROCESSED_PATH))) * ratio"
   ]
  },
  {
   "cell_type": "code",
   "execution_count": null,
   "metadata": {},
   "outputs": [],
   "source": [
    "def escolher_numeros_aleatorios(seed, minimo, maximo, qtd_numeros):\n",
    "    random.seed(seed)\n",
    "    if qtd_numeros > (maximo - minimo + 1):\n",
    "        return \"Impossível selecionar essa quantidade de números únicos dentro do intervalo.\"\n",
    "    \n",
    "    numeros_escolhidos = []\n",
    "    \n",
    "    while len(numeros_escolhidos) < qtd_numeros:\n",
    "        novo_numero = random.randint(minimo, maximo)\n",
    "        if novo_numero not in numeros_escolhidos:\n",
    "            numeros_escolhidos.append(novo_numero)\n",
    "    \n",
    "    return numeros_escolhidos\n",
    "\n",
    "numeros_aleatorios = escolher_numeros_aleatorios(42, 0, len(os.listdir(IMAGES_PATH)) - 1, num_augmented)\n",
    "print(numeros_aleatorios)"
   ]
  },
  {
   "cell_type": "markdown",
   "metadata": {},
   "source": [
    "## Criar uma pasta para as imagens alteradas"
   ]
  },
  {
   "cell_type": "code",
   "execution_count": null,
   "metadata": {},
   "outputs": [],
   "source": [
    "AUGMENTED_PATH = os.path.join('Tensorflow', 'workspace', 'images', 'augmentedimages')"
   ]
  },
  {
   "cell_type": "code",
   "execution_count": null,
   "metadata": {},
   "outputs": [],
   "source": [
    "start = len(imagens_processadas) + 1"
   ]
  },
  {
   "cell_type": "code",
   "execution_count": null,
   "metadata": {},
   "outputs": [],
   "source": [
    "if not os.path.exists(AUGMENTED_PATH):\n",
    "    if os.name == 'posix':\n",
    "        !mkdir -p {AUGMENTED_PATH}\n",
    "    if os.name == 'nt':\n",
    "        !mkdir {AUGMENTED_PATH}"
   ]
  },
  {
   "cell_type": "code",
   "execution_count": null,
   "metadata": {},
   "outputs": [],
   "source": [
    "i = 0\n",
    "for idx in numeros_aleatorios:\n",
    "    IMAGE_PATH = os.path.join(PROCESSED_PATH, 'imagem_processada_' + str(i + start) + '.jpg')\n",
    "    cv2.imwrite(IMAGE_PATH, aumentar_brilho(imagens_processadas[idx]))\n",
    "    i += 1"
   ]
  },
  {
   "cell_type": "markdown",
   "metadata": {},
   "source": [
    "## Copiar xml correspondentes"
   ]
  },
  {
   "cell_type": "code",
   "execution_count": null,
   "metadata": {},
   "outputs": [],
   "source": [
    "source_directory = PROCESSED_PATH\n",
    "destination_directory = PROCESSED_PATH"
   ]
  },
  {
   "cell_type": "code",
   "execution_count": null,
   "metadata": {},
   "outputs": [],
   "source": [
    "files = os.listdir(source_directory)\n",
    "xml_files = [file for file in files if file.endswith('.xml')]\n",
    "\n",
    "i = 0\n",
    "for idx in numeros_aleatorios:\n",
    "    selected = [file for file in files if file.endswith('_' + str(idx + 1) + '.xml')]\n",
    "    file = selected[0]\n",
    "    source_file_path = os.path.join(source_directory, file)\n",
    "    new_file_name = f\"imagem_processada_{i + start}.xml\"\n",
    "    destination_file_path = os.path.join(destination_directory, new_file_name)\n",
    "    shutil.copyfile(source_file_path, destination_file_path)\n",
    "    i += 1"
   ]
  },
  {
   "cell_type": "markdown",
   "metadata": {},
   "source": [
    "# 7. Move them into a Training and Testing Partition"
   ]
  },
  {
   "cell_type": "markdown",
   "metadata": {},
   "source": [
    "## Criar caminhos para as pastas"
   ]
  },
  {
   "cell_type": "code",
   "execution_count": null,
   "metadata": {},
   "outputs": [],
   "source": [
    "TRAIN_PATH = os.path.join('Tensorflow', 'workspace', 'images', 'train')\n",
    "TEST_PATH = os.path.join('Tensorflow', 'workspace', 'images', 'test')\n",
    "ARCHIVE_PATH = os.path.join('Tensorflow', 'workspace', 'images', 'archive.tar.gz')"
   ]
  },
  {
   "cell_type": "markdown",
   "metadata": {},
   "source": [
    "## Selecionar arquivos aleatórios para teste e treino"
   ]
  },
  {
   "cell_type": "code",
   "execution_count": null,
   "metadata": {},
   "outputs": [],
   "source": [
    "files = os.listdir(PROCESSED_PATH)"
   ]
  },
  {
   "cell_type": "code",
   "execution_count": null,
   "metadata": {},
   "outputs": [],
   "source": [
    "def copy_img_xml(destination_path, array_idx):\n",
    "    for idx in array_idx:\n",
    "        selected_img = [file for file in files if file.endswith(f'_{idx + 1}.jpg')][0]\n",
    "        selected_xml = [file for file in files if file.endswith(f'_{idx + 1}.xml')][0]\n",
    "\n",
    "        source_file_path = os.path.join(PROCESSED_PATH, selected_img)\n",
    "        destination_file_path = os.path.join(destination_path, selected_img)\n",
    "        shutil.copyfile(source_file_path, destination_file_path)\n",
    "        \n",
    "        source_file_path = os.path.join(PROCESSED_PATH, selected_xml)\n",
    "        destination_file_path = os.path.join(destination_path, selected_xml)\n",
    "        shutil.copyfile(source_file_path, destination_file_path)"
   ]
  },
  {
   "cell_type": "markdown",
   "metadata": {},
   "source": [
    "## Separar grupo de imagens"
   ]
  },
  {
   "cell_type": "code",
   "execution_count": null,
   "metadata": {},
   "outputs": [],
   "source": [
    "max = len(files) // 2 - 1\n",
    "train_ratio = 0.9\n",
    "count = ceil((len(files) // 2) * train_ratio)\n",
    "train_idx = escolher_numeros_aleatorios(420, 0, max, count)\n",
    "test_idx = [x for x in range(len(files) // 2) if x not in train_idx]"
   ]
  },
  {
   "cell_type": "code",
   "execution_count": null,
   "metadata": {},
   "outputs": [],
   "source": [
    "copy_img_xml(TRAIN_PATH, train_idx)\n",
    "copy_img_xml(TEST_PATH, test_idx)"
   ]
  },
  {
   "cell_type": "markdown",
   "metadata": {},
   "source": [
    "# 8. Comprimir as pastas do modelo"
   ]
  },
  {
   "cell_type": "code",
   "execution_count": null,
   "metadata": {},
   "outputs": [],
   "source": [
    "!tar -czf {ARCHIVE_PATH} {TRAIN_PATH} {TEST_PATH}"
   ]
  }
 ],
 "metadata": {
  "kernelspec": {
   "display_name": "tfod",
   "language": "python",
   "name": "tfod"
  },
  "language_info": {
   "codemirror_mode": {
    "name": "ipython",
    "version": 3
   },
   "file_extension": ".py",
   "mimetype": "text/x-python",
   "name": "python",
   "nbconvert_exporter": "python",
   "pygments_lexer": "ipython3",
   "version": "3.12.0"
  }
 },
 "nbformat": 4,
 "nbformat_minor": 4
}
